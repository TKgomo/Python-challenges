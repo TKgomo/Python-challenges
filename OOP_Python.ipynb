{
 "cells": [
  {
   "cell_type": "code",
   "execution_count": 3,
   "metadata": {},
   "outputs": [
    {
     "data": {
      "text/plain": [
       "'Lab'"
      ]
     },
     "execution_count": 3,
     "metadata": {},
     "output_type": "execute_result"
    }
   ],
   "source": [
    "mylist = [1,2,3]\n",
    "\n",
    "myli = ('name','surname','id') #This is a list!\n",
    "type(myli)\n",
    "\n",
    "class Dog():\n",
    "    # The first and special METHOD of your class should be always __INIT__ this method accesses a constructor\n",
    "    def __init__(self,breed,name,spots): # The self key word is the reference of the class!\n",
    "        # Esecially below you will take the Attributes:\n",
    "        # We take in the arguement(breed), then asssign it using self.attribute_name(self.breed)\n",
    "        self.breed = breed\n",
    "        self.name = name\n",
    "        self.spots = spots  #Exopecting the boolean True/false for the sports\n",
    "\n",
    "my_dog = Dog(breed='Lab', name='Sammy', spots=False) # This is an instance of the class Sample\n",
    "\n",
    "my_dog.breed # This will return the breed of the dog.\n",
    "my_dog.name # This will return the name of the dog.\n",
    "my_dog.spots # This will return the spots of the dog.(True or false)\n",
    "\n",
    "\n",
    "\n"
   ]
  },
  {
   "cell_type": "code",
   "execution_count": null,
   "metadata": {},
   "outputs": [
    {
     "name": "stdout",
     "output_type": "stream",
     "text": [
      "WOOF! My name is: Sammy and Do I have spots: False And the My naumber tag is: 9\n"
     ]
    }
   ],
   "source": [
    "class Dog:\n",
    "    # A method is a function that is inside of a class \n",
    "    # Class object attribute\n",
    "    # Same for any instance of a class\n",
    "    species = 'mammal'\n",
    "\n",
    "    def __init__(self,breed,name,spots):\n",
    "        self.breed = breed\n",
    "        self.name = name\n",
    "        self.spots = spots\n",
    "\n",
    "    #Operations / Actions  --- > Methods\n",
    "    def bark(self,number): #When we say self that means that we connect it to the actual object that we are working with.\n",
    "        print('WOOF! My name is: {p} and Do I have spots: {i} And the My naumber tag is: {o}'.format(p=self.name,i=self.spots,o=number))\n",
    "\n",
    "my_dog = Dog(breed='Lab', name='Sammy', spots=False)\n",
    "my_dog.species # Attributes never had parenthesis with them!\n",
    "my_dog.bark(9)"
   ]
  },
  {
   "cell_type": "code",
   "execution_count": 16,
   "metadata": {},
   "outputs": [
    {
     "data": {
      "text/plain": [
       "2826.0"
      ]
     },
     "execution_count": 16,
     "metadata": {},
     "output_type": "execute_result"
    }
   ],
   "source": [
    "class Circle():\n",
    "    #Class object attribute is something that should be true when you have any instance of the class\n",
    "    pi = 3.14\n",
    "    #Two ways to call the call object attributes 1. self.pi   or Circle.pi which is the name of the class so it does make sense to call the class object attribute the same way.\n",
    "    \n",
    "    def __init__(self,radius = 1):\n",
    "        self.radius = radius\n",
    "        self.area = radius * radius * self.pi # This can bve defined in the method but not having the attribute in definition, then callled by the Instance of the class,\n",
    "\n",
    "    #Method\n",
    "    def get_circumference(self):\n",
    "        return self.radius * self.pi * 2\n",
    "\n",
    "mycircle = Circle(30)\n",
    "mycircle.get_circumference()\n",
    "mycircle.radius\n",
    "mycircle.get_circumference()\n",
    "mycircle.area"
   ]
  },
  {
   "cell_type": "markdown",
   "metadata": {},
   "source": [
    "#################################### Inheritance  and Polymorphism ##############################"
   ]
  },
  {
   "cell_type": "code",
   "execution_count": 24,
   "metadata": {},
   "outputs": [
    {
     "name": "stdout",
     "output_type": "stream",
     "text": [
      "This is from the Animal Class: Animal created!\n",
      "This is from the Animal Class: Animal created!\n",
      "This is from the Dog overriding the Animal class: Dog created!\n",
      "I am a dog eating!\n",
      "I am a dog!\n"
     ]
    }
   ],
   "source": [
    "class Animal(): # This will be our base class\n",
    "    def __init__(self):\n",
    "        print(\"This is from the Animal Class: Animal created!\")\n",
    "\n",
    "    def who_am_i(self):\n",
    "        print(\"I am an animal! \")\n",
    "    \n",
    "    def eat(self):\n",
    "        print(\"I am eating!\")\n",
    "\n",
    "class Dog(Animal): # This is a derived class\n",
    "    def __init__(self):\n",
    "        Animal.__init__(self) # Because you have created a inheritance relationship with Animal all the methods will now be accessible for the class you defined!\n",
    "        print(\"This is from the Dog overriding the Animal class: Dog created!\")\n",
    "\n",
    "    #What is you would like to override the method of the base class?\n",
    "    def who_am_i(self):\n",
    "        print(\"I am a dog!\")\n",
    "\n",
    "    def eat(self):\n",
    "        print(\"I am a dog eating!\") # Method Override!!\n",
    "\n",
    "    def bark(self):\n",
    "        print(\"WOOF!\")\n",
    "\n",
    "\n",
    "myanimal = Animal() # This is an instance of the class Animal.\n",
    "my_dogs = Dog() # This is an instance of the class Dog.\n",
    "my_dogs.eat()\n",
    "my_dogs.who_am_i() # This will override the method of the base class.\n"
   ]
  },
  {
   "cell_type": "code",
   "execution_count": 27,
   "metadata": {},
   "outputs": [
    {
     "name": "stdout",
     "output_type": "stream",
     "text": [
      "Niko says woof!\n",
      "Filiks says Meow!\n"
     ]
    }
   ],
   "source": [
    "############ Polymprphism #############\n",
    "class Dog:\n",
    "    def __init__(self, name):\n",
    "        self.name = name\n",
    "\n",
    "    def speak(self):\n",
    "        return self.name + \" says woof!\"\n",
    "\n",
    "class Cat:\n",
    "    def __init__(self, name):\n",
    "        self.name = name\n",
    "\n",
    "    def speak(self):\n",
    "        return self.name + \" says Meow!\"\n",
    "    \n",
    "nike  = Dog(\"Niko\")\n",
    "filiks = Cat(\"Filiks\")\n",
    "\n",
    "print(nike.speak())\n",
    "print(filiks.speak())\n"
   ]
  },
  {
   "cell_type": "code",
   "execution_count": 28,
   "metadata": {},
   "outputs": [
    {
     "name": "stdout",
     "output_type": "stream",
     "text": [
      "Fido says Woof!\n",
      "Isis says Meow!\n"
     ]
    }
   ],
   "source": [
    "############ Abstract Classes ##############\n",
    "class Animal():\n",
    "    def __init__(self, name):\n",
    "        self.name = name\n",
    "    \n",
    "    def speak(self):\n",
    "        raise NotImplementedError(\"Subclass must implement abstract method\")\n",
    "    \n",
    "class Dop(Animal):\n",
    "    def speak(self):\n",
    "        return self.name + \" says Woof!\"\n",
    "\n",
    "class Cat(Animal):\n",
    "    def speak(self):\n",
    "        return self.name + \" says Meow!\"\n",
    "    \n",
    "fibo = Dop(\"Fido\")\n",
    "isis = Cat(\"Isis\")\n",
    "print(fibo.speak())\n",
    "print(isis.speak())"
   ]
  },
  {
   "cell_type": "markdown",
   "metadata": {},
   "source": [
    "###### Special Methods which are the built in methods #########"
   ]
  },
  {
   "cell_type": "code",
   "execution_count": 36,
   "metadata": {},
   "outputs": [
    {
     "name": "stdout",
     "output_type": "stream",
     "text": [
      "Python rocks by: Tshegofatso\n"
     ]
    }
   ],
   "source": [
    "class Book():\n",
    "    def __init__(self, title, author, pages):\n",
    "        self.title = title\n",
    "        self.author = author\n",
    "        self.pages = pages\n",
    "\n",
    "    def __str__(self):\n",
    "        return f\"{self.title} by: {self.author}\" # This is a special method that allows you to print the object in a string format.\n",
    "\n",
    "    def __len__(self):\n",
    "        return self.pages # This is a special method that allows you to print the object in a string format.\n",
    "\n",
    "    #def __del__(self):\n",
    "    #    print(\"A book object has been deleted\") when you want to show that something just got delete\n",
    "\n",
    "b = Book(\"Python rocks\", \"Tshegofatso\", 200)\n",
    "print(b)\n",
    "\n",
    "# del b (will delete the boook)"
   ]
  },
  {
   "cell_type": "markdown",
   "metadata": {},
   "source": [
    "############ Practise Questions #################"
   ]
  },
  {
   "cell_type": "code",
   "execution_count": 41,
   "metadata": {},
   "outputs": [
    {
     "data": {
      "text/plain": [
       "1.6"
      ]
     },
     "execution_count": 41,
     "metadata": {},
     "output_type": "execute_result"
    }
   ],
   "source": [
    "class Cylinder: \n",
    "    pi = 3.14\n",
    "    def __init__(self,radius =1,height=1):\n",
    "        self.radius = radius\n",
    "        self.height = height\n",
    "\n",
    "    def volume(self):\n",
    "        return self.pi * (self.radius**2) * self.height\n",
    "\n",
    "    def surface_area(self):\n",
    "        return 'The surface area is: ' + str(2 *self.pi * self.radius * self.height + 2 *self.pi * (self.radius**2))\n",
    "        \n",
    "\n",
    "\n",
    "c = Cylinder(2,3)\n",
    "c.volume()\n",
    "c.surface_area()\n",
    "\n",
    "\n",
    "class Line:\n",
    "\n",
    "    def __init__(self, coor1, coor2):\n",
    "        self.coor1 = coor1\n",
    "        self.coor2 = coor2\n",
    "\n",
    "    def distance(self):\n",
    "        return ((self.coor2[0] - self.coor1[0])**2 + (self.coor2[1] - self.coor1[1])**2)**0.5\n",
    "    \n",
    "    def slope(self):\n",
    "        return (self.coor2[1] - self.coor1[1]) / (self.coor2[0] - self.coor1[0])\n",
    "    \n",
    "coor1 = (3,2)\n",
    "coor2 =(8,10)\n",
    "lin = Line(coor1,coor2)\n",
    "lin.distance()\n",
    "lin.slope()"
   ]
  }
 ],
 "metadata": {
  "kernelspec": {
   "display_name": "Python 3",
   "language": "python",
   "name": "python3"
  },
  "language_info": {
   "codemirror_mode": {
    "name": "ipython",
    "version": 3
   },
   "file_extension": ".py",
   "mimetype": "text/x-python",
   "name": "python",
   "nbconvert_exporter": "python",
   "pygments_lexer": "ipython3",
   "version": "3.9.6"
  }
 },
 "nbformat": 4,
 "nbformat_minor": 2
}
