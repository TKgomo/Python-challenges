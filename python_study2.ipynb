{
 "cells": [
  {
   "cell_type": "code",
   "execution_count": null,
   "metadata": {},
   "outputs": [
    {
     "name": "stdout",
     "output_type": "stream",
     "text": [
      "1\n",
      "4\n",
      "9\n",
      "16\n",
      "25\n",
      "2\n",
      "4\n",
      "6\n"
     ]
    },
    {
     "data": {
      "text/plain": [
       "<map at 0x105ed0d90>"
      ]
     },
     "execution_count": 2,
     "metadata": {},
     "output_type": "execute_result"
    }
   ],
   "source": [
    "def square(num):\n",
    "    return num**2\n",
    "\n",
    "my_nums = [1,2,3,4,5]\n",
    "for item in map(square, my_nums): # With the map what you do is to pass in the function that you want to map to every single element # or item in the list.\n",
    "    print(item)\n",
    "\n",
    "# To pass it as a list:\n",
    "list (map(square,my_nums))\n",
    "\n",
    "# Funtion the works with strings using the map function:\n",
    "def splicer(mystring):\n",
    "    if len(mystring)%2 == 0:\n",
    "        return 'EVEN'\n",
    "    else:\n",
    "        return mystring[0]\n",
    "names = ['Andy', 'Eve', 'Sally']\n",
    "list(map(splicer, names)) #map ==> first argument is the function you want to map to the list, second argument is the list you want to map to the function.\n",
    "# When you call a function to map you do not have to use the parenthesis.\n",
    "\n",
    "\n",
    "#Filter Funtion will either return True or False:\n",
    "def check_even(num):\n",
    "    return num%2 == 0\n",
    "my_nums = [1,2,3,4,5,6]\n",
    "filter(check_even, my_nums) # This will return only the True values. \n",
    "\n",
    "# You can even itereate through the filter function:\n",
    "for n in filter(check_even, my_nums):\n",
    "    print(n)\n",
    "\n",
    "\n",
    "######### Lamdba Expressions #########\n",
    "def square(num):\n",
    "    result = num**2\n",
    "    return result\n",
    "\n",
    "square(2)\n",
    "\n",
    "#Lets turn the fuction above square into a lambda expression:\n",
    "square = lambda num: num ** 2 # This is the same as the function above but in one line.\n",
    "square(2)\n",
    "\n",
    "\n",
    "list(map(lambda num: num ** 2, my_nums)) #Using it with the map fucntion\n",
    "list(filter(lambda num: num%2 == 0, my_nums)) # Using it with the filter function\n",
    "\n",
    "list(map(lambda i:i[0],names)) #You cannot just display a map funciton like this. You neeed to pass it to a list\n",
    "\n",
    "                      \n",
    "\n"
   ]
  },
  {
   "cell_type": "code",
   "execution_count": null,
   "metadata": {},
   "outputs": [
    {
     "name": "stdout",
     "output_type": "stream",
     "text": [
      "Hello Sammy\n",
      "X is 50\n",
      "I JUST LOCALLY CHANGED X TO New Value\n"
     ]
    }
   ],
   "source": [
    "###################### Nested Statements and Scope ##########################\n",
    "# The LEGB Rule:\n",
    "# L: local - Names assigned in any way within a function (def or lambda), and not declared global in that function.\n",
    "# E: Enclosing function locals - Names in the local scope of any and all enclosing functions (def or lambda), from inner to outer.\n",
    "# G: Global (module) - Names assigned at the top-level of a module file, or declared global in a def within the file.\n",
    "# B: Built-in (Python) - Names preassigned in the built-in names module : open,range,SyntaxError,...\n",
    "\n",
    "lambda num: num**2 # This is an example of a local variable Num is local to the lambda expression.\n",
    "\n",
    "name = 'THIS IS A GLOBAL STRING' # This is a global variable\n",
    "def greet():\n",
    "    #encloding functions local\n",
    "    name = 'Sammy' # This is a local variable\n",
    "    def hello():\n",
    "        print('Hello '+name) # This is a local variable\n",
    "    hello()\n",
    "greet()\n",
    "\n",
    "\n",
    " \n",
    "def func(x):\n",
    "    print(f'X is {X}')\n",
    "    # LOCAL REASSIGNMENT ON A GLOBAL VARIABLE!\n",
    "    X = 'New Value'\n",
    "    print(f'I JUST LOCALLY CHANGED X TO {X}')\n",
    "\n",
    "   \n",
    "\n"
   ]
  }
 ],
 "metadata": {
  "kernelspec": {
   "display_name": "Python 3",
   "language": "python",
   "name": "python3"
  },
  "language_info": {
   "codemirror_mode": {
    "name": "ipython",
    "version": 3
   },
   "file_extension": ".py",
   "mimetype": "text/x-python",
   "name": "python",
   "nbconvert_exporter": "python",
   "pygments_lexer": "ipython3",
   "version": "3.9.6"
  }
 },
 "nbformat": 4,
 "nbformat_minor": 2
}
