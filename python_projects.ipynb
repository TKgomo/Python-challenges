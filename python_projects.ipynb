{
 "cells": [
  {
   "cell_type": "markdown",
   "metadata": {},
   "source": [
    "#Password Generator"
   ]
  },
  {
   "cell_type": "code",
   "execution_count": 5,
   "metadata": {},
   "outputs": [
    {
     "name": "stdout",
     "output_type": "stream",
     "text": [
      "Wellcome to your Password Generator! \n",
      " \n",
      "Here are your password below: \n",
      "g()v3Or?\n",
      "mvj1AGbY\n",
      "6&sm6J5X\n",
      "&#K!PeK4\n",
      "!QAgl4uf\n",
      "Mda9Ma?R\n",
      "h8#dO%mQ\n",
      "yL6zJr?3\n"
     ]
    }
   ],
   "source": [
    "import random\n",
    "### Password creation project\n",
    "print(\"Wellcome to your Password Generator! \")\n",
    "\n",
    "chars = \"qwertyuiopasdfghjklzxcvbnmQWERTYUIOPASDFGHJKKLZXCVBNM!@#$%^&*(),.?!0123456789\"\n",
    "\n",
    "number = int(input(\"How manny password would you like to generate: \"))\n",
    "print(\" \")\n",
    "\n",
    "length = int(input(\"What is the lengh of the password you would like to generate: \"))\n",
    "\n",
    "print(\"Here are your password below: \")\n",
    "\n",
    "for pwd in range(number): #Since we are working with intergers, We use the range!\n",
    "    password = ''\n",
    "    for c in range(length):\n",
    "        password = password + random.choice(chars)\n",
    "    \n",
    "    print(password)"
   ]
  },
  {
   "cell_type": "markdown",
   "metadata": {},
   "source": [
    "#Below is the Game Rock, paper, Scissors"
   ]
  },
  {
   "cell_type": "code",
   "execution_count": 6,
   "metadata": {},
   "outputs": [
    {
     "name": "stdout",
     "output_type": "stream",
     "text": [
      "Computer:  paper\n",
      "Player:  rock\n",
      "Result: Computer won!\n",
      "Computer:  scissors\n",
      "Player:  paper\n",
      "Result: Computer won!\n",
      "Computer:  rock\n",
      "Player:  rock\n",
      "Result: Tie\n",
      "Bye!\n"
     ]
    }
   ],
   "source": [
    "import random\n",
    "\n",
    "while True:\n",
    "    choices = [\"rock\",\"paper\",\"scissors\"]\n",
    "\n",
    "    computer = random.choice(choices)\n",
    "\n",
    "    player = None\n",
    "\n",
    "    while player not in choices:\n",
    "        player = input(\"Rock, paper or Scissors?: \").lower()\n",
    "\n",
    "    if player==computer:\n",
    "        print(\"Computer: \", computer)\n",
    "        print(\"Player: \", player)\n",
    "        print(\"Result: Tie\")\n",
    "\n",
    "    elif player == \"rock\":\n",
    "        if computer == \"paper\":\n",
    "                print(\"Computer: \", computer)\n",
    "                print(\"Player: \", player)\n",
    "                print(\"Result: Computer won!\")   \n",
    "        if computer == \"scissors\":\n",
    "                print(\"Computer: \", computer)\n",
    "                print(\"Player: \", player)\n",
    "                print(\"Result: Player won!\")\n",
    "\n",
    "    elif player == \"paper\":\n",
    "        if computer == \"rock\":\n",
    "                print(\"Computer: \", computer)\n",
    "                print(\"Player: \", player)\n",
    "                print(\"Result: Player won!\")\n",
    "        if computer == \"scissors\":\n",
    "                print(\"Computer: \", computer)\n",
    "                print(\"Player: \", player)\n",
    "                print(\"Result: Computer won!\")\n",
    "\n",
    "    elif player == \"scissors\":\n",
    "        if computer == \"paper\":\n",
    "                print(\"Computer: \", computer)\n",
    "                print(\"Player: \", player)\n",
    "                print(\"Result: Player won!\")\n",
    "        if computer == \"rock\":\n",
    "                print(\"Computer: \", computer)\n",
    "                print(\"Player: \", player)\n",
    "                print(\"Result: Computer won!\")\n",
    "                \n",
    "    play_again = input(\"Want to play again (yes/no): \").lower()\n",
    "    if play_again != \"yes\":\n",
    "     break\n",
    "print(\"Bye!\")"
   ]
  },
  {
   "cell_type": "markdown",
   "metadata": {},
   "source": [
    "#Fibonnaci  sequence generator"
   ]
  },
  {
   "cell_type": "code",
   "execution_count": 1,
   "metadata": {},
   "outputs": [
    {
     "name": "stdout",
     "output_type": "stream",
     "text": [
      "[0, 1, 1, 2, 3, 5, 8, 13, 21, 34]\n"
     ]
    }
   ],
   "source": [
    "def fibonacci(n):\n",
    "    lis = [0, 1] \n",
    "    \n",
    "    if n == 1:\n",
    "        return [0]\n",
    "    \n",
    "    elif n == 2:\n",
    "        return [0, 1]\n",
    "    \n",
    "    for i in range(n - 2):           # You are using there range beacuse you we want to loop through intergers in a list. #You already have the first two items of the list hence using the -2 which will start on the third digit.\n",
    "        next_num = lis[-1] + lis[-2] # this is the formular of the fibonacci\n",
    "        lis.append(next_num)         # The append is used because you want to add the next number to the list\n",
    "    return lis\n",
    "\n",
    "print(fibonacci(10))  # Expected Output: [0, 1, 1, 2, 3, 5, 8, 13, 21, 34]\n"
   ]
  },
  {
   "cell_type": "markdown",
   "metadata": {},
   "source": [
    "Anagram Checker!"
   ]
  },
  {
   "cell_type": "code",
   "execution_count": null,
   "metadata": {},
   "outputs": [
    {
     "name": "stdout",
     "output_type": "stream",
     "text": [
      "True\n"
     ]
    }
   ],
   "source": [
    "import random\n",
    "\n",
    "def is_anagram(str1, str2):\n",
    "\n",
    "    if len(str1) != len(str2):\n",
    "        return False\n",
    "\n",
    "    if sorted(str1) == sorted(str2):\n",
    "            return True\n",
    "    else:\n",
    "            return False\n",
    "    \n",
    "print(is_anagram('listen','silent'))"
   ]
  },
  {
   "cell_type": "markdown",
   "metadata": {},
   "source": [
    "#Finding a missing Number"
   ]
  },
  {
   "cell_type": "code",
   "execution_count": 55,
   "metadata": {},
   "outputs": [
    {
     "name": "stdout",
     "output_type": "stream",
     "text": [
      "4\n"
     ]
    }
   ],
   "source": [
    "def find_missing_number(nums):\n",
    "    n = len(nums) + 1  # The missing number means the total count should be len(nums) + 1\n",
    "    expected_sum = n * (n + 1) // 2\n",
    "    actual_sum = sum(nums)\n",
    "    missing_number = expected_sum - actual_sum\n",
    "    return (missing_number)  # Return instead of print becuase print will also print None\n",
    "\n",
    "print(find_missing_number([1, 2, 3, 5]))  # Expected Output: 4\n"
   ]
  },
  {
   "cell_type": "markdown",
   "metadata": {},
   "source": [
    "Count Vowels in a String"
   ]
  },
  {
   "cell_type": "code",
   "execution_count": null,
   "metadata": {},
   "outputs": [
    {
     "name": "stdout",
     "output_type": "stream",
     "text": [
      "3\n"
     ]
    }
   ],
   "source": [
    "def count_vowels(s):\n",
    "    vols = ['a','e','i','o','u']\n",
    "    s = s.lower()\n",
    "    count = 0\n",
    "    for char in s:\n",
    "        if char in vols:\n",
    "            count = count +1 #Increment the count if there are more vowels and not one!\n",
    "    return count\n",
    "\n",
    "print(count_vowels(\"Hello World\"))\n",
    "\n"
   ]
  },
  {
   "cell_type": "markdown",
   "metadata": {},
   "source": [
    "                            #################### Banking System ############################"
   ]
  },
  {
   "cell_type": "code",
   "execution_count": 101,
   "metadata": {},
   "outputs": [
    {
     "name": "stdout",
     "output_type": "stream",
     "text": [
      "\n",
      "Welcome to your Bank Account!\n",
      "Your initial balance is: R5000.0\n",
      "\n",
      "What would you like to do?\n",
      "1. Deposit\n",
      "2. Withdraw\n",
      "3. Check Balance\n",
      "4. Exit\n",
      "You have withdrawn: R2500.0\n",
      "Your new balance is: R2500.0\n",
      "\n",
      "What would you like to do?\n",
      "1. Deposit\n",
      "2. Withdraw\n",
      "3. Check Balance\n",
      "4. Exit\n",
      "You have deposited: R500.0\n",
      "Your new balance is: R3000.0\n",
      "\n",
      "What would you like to do?\n",
      "1. Deposit\n",
      "2. Withdraw\n",
      "3. Check Balance\n",
      "4. Exit\n",
      "\n",
      "Your final account balance is:  R3000.0\n",
      "\n",
      "What would you like to do?\n",
      "1. Deposit\n",
      "2. Withdraw\n",
      "3. Check Balance\n",
      "4. Exit\n",
      "Thank you for using the bank system. Goodbye!\n"
     ]
    }
   ],
   "source": [
    "class BankAccount:\n",
    "    def __init__(self, balance=0):\n",
    "        self.balance = balance\n",
    "        print(\"\\nWelcome to your Bank Account!\")\n",
    "        print(f\"Your initial balance is: R{self.balance}\")\n",
    "\n",
    "    def deposit(self, amount):\n",
    "        if amount > 0:\n",
    "            self.balance += amount\n",
    "            print(f\"You have deposited: R{amount}\")\n",
    "            print(f\"Your new balance is: R{self.balance}\")\n",
    "        else:\n",
    "            print(\"Invalid deposit amount. Please enter a positive value.\")\n",
    "\n",
    "    def withdrawal(self, amount):\n",
    "        if amount > 0:\n",
    "            if amount <= self.balance:\n",
    "                self.balance = self.balance - amount\n",
    "                print(f\"You have withdrawn: R{amount}\")\n",
    "                print(f\"Your new balance is: R{self.balance}\")\n",
    "            else:\n",
    "                print(\"Insufficient funds for this transaction.\")\n",
    "        else:\n",
    "            print(\"Invalid withdrawal amount. Please enter a positive value.\")\n",
    "\n",
    "    def get_balance(self):\n",
    "        print(f\"\\nYour final account balance is:  R{self.balance}\")\n",
    "\n",
    "class Main:\n",
    "    @staticmethod\n",
    "    def run():\n",
    "        while True:\n",
    "            try:\n",
    "                initial_balance = float(input(\"Enter your starting balance: \"))\n",
    "                if initial_balance < 0:\n",
    "                    print(\"Balance cannot be negative. Please enter a valid amount.\")\n",
    "                    continue\n",
    "                break\n",
    "            except ValueError:\n",
    "                print(\"Invalid input. Please enter a numeric value.\")\n",
    "\n",
    "        account = BankAccount(initial_balance)\n",
    "\n",
    "        while True:\n",
    "            print(\"\\nWhat would you like to do?\")\n",
    "            print(\"1. Deposit\")\n",
    "            print(\"2. Withdraw\")\n",
    "            print(\"3. Check Balance\")\n",
    "            print(\"4. Exit\")\n",
    "\n",
    "            choice = input(\"Please Enter your choice (1-4): \")\n",
    "\n",
    "            if choice == \"1\":\n",
    "                try:\n",
    "                    amount = float(input(\"Enter the deposit amount: \"))\n",
    "                    account.deposit(amount)\n",
    "                except ValueError:\n",
    "                    print(\"Invalid input. Please enter a numeric value.\")\n",
    "\n",
    "            elif choice == \"2\":\n",
    "                try:\n",
    "                    amount = float(input(\"Enter the withdrawal amount: \"))\n",
    "                    account.withdrawal(amount)\n",
    "                except ValueError:\n",
    "                    print(\"Invalid input. Please enter a numeric value.\")\n",
    "\n",
    "            elif choice == \"3\":\n",
    "                account.get_balance()\n",
    "\n",
    "            elif choice == \"4\":\n",
    "                print(\"Thank you for using the bank system. Goodbye!\")\n",
    "                break\n",
    "\n",
    "            else:\n",
    "                print(\"Invalid choice. Please enter a number between 1 and 4.\")\n",
    "\n",
    "# Run the program\n",
    "if __name__ == \"__main__\":\n",
    "    Main.run()\n",
    "\n",
    "\n",
    "\n",
    "        \n",
    "\n",
    "    \n",
    "\n"
   ]
  },
  {
   "cell_type": "markdown",
   "metadata": {},
   "source": [
    "                          ####################### Student Management System ##########################"
   ]
  },
  {
   "cell_type": "code",
   "execution_count": null,
   "metadata": {},
   "outputs": [
    {
     "name": "stdout",
     "output_type": "stream",
     "text": [
      "Welcome to the Student Management System!\n",
      "\n",
      "What would you like to do today?\n",
      "1. Enter a new student\n",
      "2. Add exam grades\n",
      "3. See student's average\n",
      "4. Exit\n"
     ]
    },
    {
     "name": "stdout",
     "output_type": "stream",
     "text": [
      "\n",
      "Student Tshegofatso Kgomo has been registered.\n",
      "\n",
      "What would you like to do today?\n",
      "1. Enter a new student\n",
      "2. Add exam grades\n",
      "3. See student's average\n",
      "4. Exit\n",
      "\n",
      "What would you like to do today?\n",
      "1. Enter a new student\n",
      "2. Add exam grades\n",
      "3. See student's average\n",
      "4. Exit\n",
      "Tshegofatso Kgomo's average grade: 90.00\n",
      "You got an 'A'.\n",
      "\n",
      "What would you like to do today?\n",
      "1. Enter a new student\n",
      "2. Add exam grades\n",
      "3. See student's average\n",
      "4. Exit\n",
      "Thank you for using the Student Management System. Goodbye!\n"
     ]
    }
   ],
   "source": [
    "class Student:\n",
    "    def __init__(self, name, surname):\n",
    "        self.name = name\n",
    "        self.surname = surname\n",
    "        self.grades = [] \n",
    "\n",
    "    def add_grade(self, grade):\n",
    "        self.grades.append(grade)\n",
    "\n",
    "    def calculate_average(self):\n",
    "        if len(self.grades) == 0:\n",
    "            return \"No grades entered yet.\"\n",
    "        return sum(self.grades) / len(self.grades)\n",
    "\n",
    "\n",
    "class Main:\n",
    "    @staticmethod\n",
    "    def run():\n",
    "        print(\"Welcome to the Student Management System!\")\n",
    "\n",
    "        while True:\n",
    "            print(\"\\nWhat would you like to do today?\")\n",
    "            print(\"1. Enter a new student\")\n",
    "            print(\"2. Add exam grades\")\n",
    "            print(\"3. See student's average\")\n",
    "            print(\"4. Exit\")\n",
    "\n",
    "            choice = input(\"Please enter a number from 1 - 4: \")\n",
    "\n",
    "            if choice == \"1\":\n",
    "                name = input(\"What is the student's name? \")\n",
    "                surname = input(\"What is the student's surname? \")\n",
    "                student = Student(name, surname)\n",
    "                print(f\"\\nStudent {name} {surname} has been registered.\")\n",
    "\n",
    "            elif choice == \"2\":\n",
    "                if student is None:\n",
    "                    print(\"No student registered. Please enter a new student first.\")\n",
    "                    continue\n",
    "\n",
    "                exams = int(input(\"How many exams did the student write? \"))\n",
    "                for y in range(exams):\n",
    "                    while True:\n",
    "                        try:\n",
    "                            grade = float(input(\"Enter the exam grade: \"))\n",
    "                            if 0 <= grade <= 100:\n",
    "                                student.add_grade(grade)\n",
    "                                break\n",
    "                            else:\n",
    "                                print(\"Grade must be between 0 and 100.\")\n",
    "                        except ValueError:\n",
    "                            print(\"Invalid input. Please enter a numeric value.\")\n",
    "\n",
    "            elif choice == \"3\":\n",
    "                if student is None:\n",
    "                    print(\"No student registered. Please enter a new student first.\")\n",
    "                    continue\n",
    "\n",
    "                avg = student.calculate_average()\n",
    "                if isinstance(avg, str):  # If no grades entered yet\n",
    "                    print(avg)\n",
    "                else:\n",
    "                    print(f\"{student.name} {student.surname}'s average grade: {avg:.2f}\")\n",
    "\n",
    "                    # Determine the grade category\n",
    "                    if avg >= 90:\n",
    "                        print(\"You got an 'A'.\")\n",
    "                    elif 80 <= avg < 90:\n",
    "                        print(\"You got a 'B'.\")\n",
    "                    elif 70 <= avg < 80:\n",
    "                        print(\"You got a 'C'.\")\n",
    "                    elif 60 <= avg < 70:\n",
    "                        print(\"You got a 'D'.\")\n",
    "                    else:\n",
    "                        print(\"You have not meet the requirements.\")\n",
    "\n",
    "            elif choice == \"4\":\n",
    "                print(\"Thank you for using the Student Management System. Goodbye!\")\n",
    "                break\n",
    "\n",
    "            else:\n",
    "                print(\"Invalid choice. Please enter a number between 1 and 4.\")\n",
    "\n",
    "\n",
    "# Run the program\n",
    "if __name__ == \"__main__\":\n",
    "    Main.run()\n",
    "\n",
    "\n",
    "            \n",
    "\n",
    "\n",
    "\n",
    "        "
   ]
  }
 ],
 "metadata": {
  "kernelspec": {
   "display_name": "Python 3",
   "language": "python",
   "name": "python3"
  },
  "language_info": {
   "codemirror_mode": {
    "name": "ipython",
    "version": 3
   },
   "file_extension": ".py",
   "mimetype": "text/x-python",
   "name": "python",
   "nbconvert_exporter": "python",
   "pygments_lexer": "ipython3",
   "version": "3.9.6"
  }
 },
 "nbformat": 4,
 "nbformat_minor": 2
}
