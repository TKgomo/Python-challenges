{
 "cells": [
  {
   "cell_type": "markdown",
   "metadata": {},
   "source": [
    "You can use the Mod opreator to get if a number could be Odd or Even.\n",
    "You have the 20 % 5 = 0  This will be even.\n",
    "You can have: 20 % 6 = 3.3 This will be odd.\n"
   ]
  },
  {
   "cell_type": "markdown",
   "metadata": {},
   "source": [
    "Srings:\n",
    "Indexing is the term we use when you want to grap a single Character in the String, See example below:\n",
    " H  e  l  l  o\n",
    " 0  1  2  3  4\n",
    "\n",
    " Slicing:\n",
    " Allow you to grap a subsection of multiple characters a \"slice\" of the string\n",
    " Syntax: [start:stop:step]\n",
    "\n",
    " \\n ==> When you want to add a new line!\n",
    " len ==> will show you how many characters that are in the string.\n"
   ]
  },
  {
   "cell_type": "code",
   "execution_count": 10,
   "metadata": {},
   "outputs": [
    {
     "name": "stdout",
     "output_type": "stream",
     "text": [
      "Hello I come back! \n",
      " You will get it bro don't worry! \n"
     ]
    },
    {
     "data": {
      "text/plain": [
       "16"
      ]
     },
     "execution_count": 10,
     "metadata": {},
     "output_type": "execute_result"
    }
   ],
   "source": [
    "print (\"Hello I come back! \\n You will get it bro don't worry! \")\n",
    "len('hello Tshegofats')"
   ]
  },
  {
   "cell_type": "markdown",
   "metadata": {},
   "source": [
    "Indexing and Slicing:"
   ]
  },
  {
   "cell_type": "code",
   "execution_count": null,
   "metadata": {},
   "outputs": [
    {
     "data": {
      "text/plain": [
       "'r'"
      ]
     },
     "execution_count": 15,
     "metadata": {},
     "output_type": "execute_result"
    }
   ],
   "source": [
    "my_string =  \"Hello World\"\n",
    "my_string[6] #Example of indexing! Output: 'W'\n",
    "my_string[-3] #This is reverse indexing! You will get the output 'r'\n"
   ]
  },
  {
   "cell_type": "code",
   "execution_count": null,
   "metadata": {},
   "outputs": [
    {
     "data": {
      "text/plain": [
       "'Tsheg'"
      ]
     },
     "execution_count": 11,
     "metadata": {},
     "output_type": "execute_result"
    }
   ],
   "source": [
    "#Slicing:\n",
    "new_string = \"Tshegofatso Kgomo\"\n",
    "new_string[2:] #This especially means you will start from the index \"h\" then all the way to the end.\n",
    "new_string[:5] # This means that you will start from the begining of the string 'T' to the 5th Character but not including that 5th Character\n",
    "new_string[2:5] # This mean that you will start from Charater 2 'h' till the 5th charater 'o' but not including it!\n",
    "new_string[::3] # These are jump stepo so you will start from the beginning of the Characters and jump3 steps\n",
    "new_string[2::2] #This means that you will start from character '2' whivh is 'h' then jump 2 charcters"
   ]
  },
  {
   "cell_type": "markdown",
   "metadata": {},
   "source": [
    "String concatenation: Adding two stings together,"
   ]
  },
  {
   "cell_type": "code",
   "execution_count": null,
   "metadata": {},
   "outputs": [
    {
     "name": "stdout",
     "output_type": "stream",
     "text": [
      "tshegofatso\n"
     ]
    }
   ],
   "source": [
    "#Below is how Concatenation would work!\n",
    "conc_sting =\"tshego\"\n",
    "full_string = conc_sting[:] + \"fatso\"\n",
    "print(full_string)"
   ]
  },
  {
   "cell_type": "code",
   "execution_count": 31,
   "metadata": {},
   "outputs": [
    {
     "data": {
      "text/plain": [
       "['Hello', 'People']"
      ]
     },
     "execution_count": 31,
     "metadata": {},
     "output_type": "execute_result"
    }
   ],
   "source": [
    "z = \"Hello People\"\n",
    "z.split()\n"
   ]
  },
  {
   "cell_type": "code",
   "execution_count": 40,
   "metadata": {},
   "outputs": [
    {
     "name": "stdout",
     "output_type": "stream",
     "text": [
      "This is a string Inserted\n",
      "This will come in Handy\n",
      "This will come in Handy\n",
      "This will come in Handy Once we start implementing\n"
     ]
    }
   ],
   "source": [
    "# Printing Formats with Strings\n",
    "print(\"This is a string {}\" .format(\"Inserted\"))\n",
    "#The .format will place the values that you supply in the string.\n",
    "\n",
    "print(\"This will {} {} {}\" .format(\"come\", \"in\", \"Handy\"))\n",
    "\n",
    "# This is where you can specify which sequence you want you string to be inputed \n",
    "print(\"This will {2} {0} {1}\" .format(\"in\", \"Handy\", \"come\")) \n",
    "\n",
    "print(\"This will {g} {y} {i} Once we start implementing\" .format( y= \"in\", i =\"Handy\", g =\"come\")) #Using something like the keys and values"
   ]
  },
  {
   "cell_type": "markdown",
   "metadata": {},
   "source": [
    "Float formatting follows \"{value: width.precision f}\""
   ]
  },
  {
   "cell_type": "code",
   "execution_count": null,
   "metadata": {},
   "outputs": [
    {
     "name": "stdout",
     "output_type": "stream",
     "text": [
      "The result will be 0.129\n"
     ]
    }
   ],
   "source": [
    "result = 100/777\n",
    "print(\"The result will be {r:5.3f}\" .format(r=result))\n",
    "#The value is what you are displaying\n",
    "#The width(5) is the white space before the result\n",
    "#The precision(3f) is the numbers you would like to see which is the remainder in the answer."
   ]
  },
  {
   "cell_type": "code",
   "execution_count": null,
   "metadata": {},
   "outputs": [
    {
     "name": "stdout",
     "output_type": "stream",
     "text": [
      " The guy that just came in, is: John \n",
      " And his: 12 years old! \n"
     ]
    }
   ],
   "source": [
    "#F String literals  as well:\n",
    "his_name = \"John\"\n",
    "age = 12\n",
    "print (f\" The guy that just came in, is: {his_name} \\n And his: {age} years old! \")"
   ]
  },
  {
   "cell_type": "code",
   "execution_count": 6,
   "metadata": {},
   "outputs": [
    {
     "name": "stdout",
     "output_type": "stream",
     "text": [
      "abcdefg: Really do not make sense\n",
      "Lets use a string that makes sense: I am coming alright \n",
      " Lets get the Job Done!\n",
      "How far are you coming: abcdefg \n",
      " What the is that ? lol I mean't I am coming alright\n"
     ]
    }
   ],
   "source": [
    "ne_string = \"abcdefg\"\n",
    "ne_string[0:4]\n",
    "print(ne_string + \": Really do not make sense\")\n",
    "nne_string = \"I am coming alright\"\n",
    "print(f\"Lets use a string that makes sense: {nne_string} \\n Lets get the Job Done!\")\n",
    "print(\"How far are you coming: {g} \" .format(g = ne_string) + \"\\n What the is that ? lol I mean't {t}\" .format(t = nne_string) )"
   ]
  },
  {
   "cell_type": "markdown",
   "metadata": {},
   "source": [
    "Below we have went through the Append method and the Pop method.\n",
    "\n",
    "We have also went through the Sort and reverse!"
   ]
  },
  {
   "cell_type": "code",
   "execution_count": 127,
   "metadata": {},
   "outputs": [
    {
     "name": "stdout",
     "output_type": "stream",
     "text": [
      "['four ', 'five', 'string ', 200, 22.2]\n",
      "200\n",
      "Four \n",
      " \n",
      "['string ', 200, 22.2, 'I have done it']\n",
      "['string ', 200, 22.2]\n",
      "[200, 22.2]\n",
      " \n",
      "['a', 'b', 'c', 'e', 'l', 'r']\n",
      "[0.5, 1, 2, 3, 5, 7, 8, 9]\n",
      " \n",
      "['r', 'l', 'e', 'c', 'b', 'a']\n",
      "[9, 8, 7, 5, 3, 2, 1, 0.5]\n",
      " \n",
      "The inner list you have requested is: 2\n"
     ]
    }
   ],
   "source": [
    "my_list = ['string ', 200 , 22.2] #Defined a new list\n",
    "len(my_list) #Checking the number of charaters we have in the list\n",
    "another_list = ['four ', 'five'] #Defined a new list\n",
    "final_list = another_list + my_list # Concatetating a new list.\n",
    "print(final_list) # Printing the Concatetation of the new list.\n",
    "print(final_list[3]) # Printing the charater on index 3 on the new list.\n",
    "print(final_list[0].capitalize()) # Capitalising the new list!\\\n",
    "print(\" \")\n",
    "my_list.append(\"I have done it\") # .append is the one you can use to add values on your list at the end of the list.\n",
    "print(my_list)\n",
    "\n",
    "my_list.pop() # This will pop off and return the last Item at the end of the list!\n",
    "print(my_list)\n",
    "\n",
    "my_list.pop(0) # This is when you will pop off the specific index in the list!\n",
    "print(my_list)\n",
    "print(\" \")\n",
    "new_list = ['e','r','a','b','l','c']\n",
    "num_list = [5,7,8,3,1,9,2,0.5]\n",
    "new_list.sort()\n",
    "num_list.sort()\n",
    "print(new_list)\n",
    "print(num_list)\n",
    "print(\" \")\n",
    "new_list.reverse()\n",
    "print(new_list)\n",
    "num_list.reverse()\n",
    "print(num_list)\n",
    "\n",
    "print(\" \")\n",
    "myy_list = [1,2,3,[1,2]]\n",
    "print(\"The inner list you have requested is: \" + str(myy_list[3][1]))\n",
    "\n"
   ]
  },
  {
   "cell_type": "markdown",
   "metadata": {},
   "source": [
    "Now we well start exploring Dictionary\n",
    "\n",
    "When do we choose a list and when do we choose a Dictionary?\n",
    "Dictionary: have objects retrieved by key names. and are unordered and cannot be sorted.\n",
    "Good time to use a Dictionary: When you want to quickly retrieve a value without needing to know its exact index locaion.\n",
    "\n",
    "List: You can retrieve objects based off locations, which allows the list to be sorted and sliced.\n"
   ]
  },
  {
   "cell_type": "code",
   "execution_count": 156,
   "metadata": {},
   "outputs": [
    {
     "name": "stdout",
     "output_type": "stream",
     "text": [
      " \n",
      "value1\n",
      "How much is bread? \n",
      " The print of bread is: R17.8\n",
      " \n",
      "Coming well\n",
      "The inside key of this Dictionary is: 100\n",
      " \n",
      "The letter you have been looking for is: c\n",
      "Will you first Car be: KIA?\n",
      "No not a KIA, But a Polo TSI\n",
      " \n",
      "{'K1': 100, 'K2': 200, 'K3': 300}\n"
     ]
    },
    {
     "data": {
      "text/plain": [
       "dict_values([100, 200, 300])"
      ]
     },
     "execution_count": 156,
     "metadata": {},
     "output_type": "execute_result"
    }
   ],
   "source": [
    "my_dict ={'key1' : 'value1', 'key2':'value2', 'key3':'value3'}\n",
    "print(\" \")\n",
    "\n",
    "print(my_dict['key1']) # when you want to call the dictionary you use the Key. This will return the Value of the key you have called!\n",
    "\n",
    "price_lookup ={'apple': 9.99, 'Bread':17.80, 'Coke': 27, 'Watch': {}} #Definition of the Dictionary\n",
    "print(\"How much is bread? \")\n",
    "print(\" The print of bread is: R\" + str(price_lookup['Bread'])) #Displaying the dictionary and chaning the float to a string to be able to display it.\n",
    "\n",
    "#You can have every data type in your dictionary!\n",
    "print(\" \")\n",
    "\n",
    "D = {'K1':123, 'K2' : [0,1,2], 'K3':\"Coming well\", 'K4':{'insideKey':100},'K5':50.5}\n",
    "\n",
    "print(D['K3'])\n",
    "print(\"The inside key of this Dictionary is: \" + str(D['K4']['insideKey']))\n",
    "\n",
    "print(\" \")\n",
    "\n",
    "#Another Example! Read the code carefully to understand it!!\n",
    "Y = {'Key1':['a','b','c'], 'key2':{'key22':\"KIA\"}}\n",
    "print(\"The letter you have been looking for is: \" + Y['Key1'][2])\n",
    "\n",
    "print(\"Will you first Car be: \"+Y['key2']['key22'] + \"?\")\n",
    "print(\"No not a KIA, But a Polo TSI\")\n",
    "\n",
    "#when you want to add a Value in the Dictionary.\n",
    "PD = {'K1':100, 'K2':200,}\n",
    "PD['K3'] = 300\n",
    "print(\" \")\n",
    "print(PD)\n",
    "\n",
    "PD.keys()\n",
    "PD.values()\n"
   ]
  },
  {
   "cell_type": "markdown",
   "metadata": {},
   "source": [
    "Tuples:\n",
    "Tuples are very similar to lists, However they have one key difference, which is Immutability.\n",
    "Once an element is inside a tuple, it cannot be reassigned.\n",
    "\n",
    "Tuples use paraenthesis = (1,2,3)\n",
    "Dictionary use Curly brakets = {1,2,3}\n",
    "List use Angled brakets = [1,2,3]\n"
   ]
  },
  {
   "cell_type": "code",
   "execution_count": null,
   "metadata": {},
   "outputs": [
    {
     "name": "stdout",
     "output_type": "stream",
     "text": [
      "3\n",
      "2\n",
      "2\n"
     ]
    }
   ],
   "source": [
    "t = (1,2,3)\n",
    "print(t[-1]) # The last item in the Tuple.\n",
    "\n",
    "t = ('a','a','b','c')\n",
    "print(t.count('a')) # Count how many times you will have 'a' in the Tuple.\n",
    "\n",
    "z = ('1','2','3',[1,2,3])\n",
    "print(z[3][1]) #Printing the 2 inside a list inside a Tuple."
   ]
  },
  {
   "cell_type": "markdown",
   "metadata": {},
   "source": [
    "Set\n",
    "Set are unorded collections of Unique elements.\n",
    "This means that there can only be one representative of the same object!"
   ]
  },
  {
   "cell_type": "code",
   "execution_count": 173,
   "metadata": {},
   "outputs": [
    {
     "name": "stdout",
     "output_type": "stream",
     "text": [
      "{3}\n"
     ]
    },
    {
     "data": {
      "text/plain": [
       "{1, 2, 3, 4}"
      ]
     },
     "execution_count": 173,
     "metadata": {},
     "output_type": "execute_result"
    }
   ],
   "source": [
    "myset = set()\n",
    "myset.add(3)\n",
    "\n",
    "print(myset)\n",
    "\n",
    "my_llist = [1,1,1,1,2,2,2,2,3,3,3,3,4,4,4,]\n",
    "set(my_llist)\n"
   ]
  },
  {
   "cell_type": "markdown",
   "metadata": {},
   "source": [
    "Booleans: True and False using comparison Operators"
   ]
  },
  {
   "cell_type": "code",
   "execution_count": null,
   "metadata": {},
   "outputs": [
    {
     "data": {
      "text/plain": [
       "True"
      ]
     },
     "execution_count": 179,
     "metadata": {},
     "output_type": "execute_result"
    }
   ],
   "source": [
    "1 > 2\n",
    "\n",
    "2 == 2\n",
    "\n",
    "B = None #None can be used as a place holder!\n"
   ]
  },
  {
   "cell_type": "markdown",
   "metadata": {},
   "source": [
    "Control Flow statements of If, elif and else.\n",
    "When does the elif statement come in: If you want to check for multiple conditions before the else statement executes you can have the \n",
    "elif statement.\n",
    "Basically if you can have as much as elif statements as you want.\n"
   ]
  },
  {
   "cell_type": "code",
   "execution_count": null,
   "metadata": {},
   "outputs": [
    {
     "name": "stdout",
     "output_type": "stream",
     "text": [
      "I am not Hungry!\n",
      "You might have to go to the store!\n"
     ]
    }
   ],
   "source": [
    "Hungry = False\n",
    "if Hungry:\n",
    "    print(\"Its True, please feed me! \")\n",
    "else:\n",
    "    print(\"I am not Hungry!\")\n",
    "\n",
    "loc = \"Store\"\n",
    "\n",
    "if loc == \"Auto Shop\":\n",
    "    print(\"Cars are actually cool\")\n",
    "\n",
    "elif loc == \"Store\":\n",
    "    print(\"You might have to go to the store!\")\n",
    "else:\n",
    "    print(\"You are not at the car shop!\")\n",
    "\n",
    "\n",
    "\n",
    "\n",
    "\n"
   ]
  },
  {
   "cell_type": "code",
   "execution_count": 24,
   "metadata": {},
   "outputs": [
    {
     "name": "stdout",
     "output_type": "stream",
     "text": [
      "Below are all the list numbers: \n",
      "1\n",
      "2\n",
      "3\n",
      "4\n",
      "5\n",
      "6\n",
      "7\n",
      "8\n",
      "9\n",
      "10\n",
      " \n",
      "Below are the Even and Odd indicated numbers: \n",
      "Odd Numbers: 1\n",
      "Even Numbers: 2\n",
      "Odd Numbers: 3\n",
      "Even Numbers: 4\n",
      "Odd Numbers: 5\n",
      "Even Numbers: 6\n",
      "Odd Numbers: 7\n",
      "Even Numbers: 8\n",
      "Odd Numbers: 9\n",
      "Even Numbers: 10\n",
      "H\n",
      "e\n",
      "l\n",
      "l\n",
      "o\n",
      " \n",
      "T\n",
      "s\n",
      "h\n",
      "e\n",
      "g\n",
      "o\n",
      "f\n",
      "a\n",
      "t\n",
      "s\n",
      "o\n",
      " \n"
     ]
    }
   ],
   "source": [
    "# For loop in Python:\n",
    "# With the For loops that means that the terms or charaters are iterable, which simply means that you can iterate over the object!\n",
    "\n",
    "mylist = [1,2,3,4,5,6,7,8,9,10]\n",
    "print(\"Below are all the list numbers: \")\n",
    "for num in mylist:\n",
    "    print(num)\n",
    "\n",
    "print(\" \")\n",
    "print(\"Below are the Even and Odd indicated numbers: \")\n",
    "for num in mylist:\n",
    "    if num % 2 == 0:\n",
    "        print( \"Even Numbers: {i}\" .format(i = num))\n",
    "    \n",
    "    else:\n",
    "        print(f\"Odd Numbers: {num}\")\n",
    "\n",
    "\n",
    "\n",
    "mystring = \"Hello Tshegofatso \"\n",
    "for letter in mystring:\n",
    "    print(letter)\n",
    "\n",
    "\n",
    "\n",
    "\n",
    "\n"
   ]
  },
  {
   "cell_type": "code",
   "execution_count": 33,
   "metadata": {},
   "outputs": [
    {
     "name": "stdout",
     "output_type": "stream",
     "text": [
      "(1, 2)\n",
      "(3, 4)\n",
      "(5, 6)\n",
      "(7, 8)\n",
      "(9, 10)\n",
      " \n",
      "1\n",
      "3\n",
      "5\n",
      "7\n",
      "9\n",
      "The second lists: \n",
      "3\n",
      "6\n",
      "9\n"
     ]
    }
   ],
   "source": [
    "#Tuple Unpacking:\n",
    " \n",
    "mylist  = [(1,2), (3,4), (5,6), (7,8), (9,10)]\n",
    "mylisst = [(1,2,3), (4,5,6), (7,8,9)]\n",
    "\n",
    "for tups in mylist:\n",
    "    print(tups)\n",
    "\n",
    "print(\" \")\n",
    "\n",
    "#Tuple Unpacking:\n",
    "for a,b in mylist:\n",
    "    print(a)\n",
    "\n",
    "print(\"The second lists: \")\n",
    "for a,b,c in mylisst:\n",
    "    print(c)\n",
    "\n"
   ]
  },
  {
   "cell_type": "code",
   "execution_count": 42,
   "metadata": {},
   "outputs": [
    {
     "name": "stdout",
     "output_type": "stream",
     "text": [
      "('K1', 1)\n",
      "('K2', 2)\n",
      "('K3', 3)\n",
      "('K4', 4)\n",
      "('K5', 5)\n",
      " \n",
      "Below are the values alone: \n",
      "1\n",
      "2\n",
      "3\n",
      "4\n",
      "5\n"
     ]
    }
   ],
   "source": [
    "D = {'K1': 1, 'K2':2 , 'K3': 3, 'K4':4, 'K5':5}\n",
    "\n",
    "for itt in D.items(): #This is whwen you want to get both Items and Value\n",
    "    print(itt)\n",
    "\n",
    "print(\" \")\n",
    "print(\"Below are the values alone: \")\n",
    "# When you want to get on the Iteams you can use Upacking\n",
    "for key,value in D:\n",
    "    print(value)\n",
    "\n",
    "#for va in D.values(): another way of doing it!\n",
    "#    print(va)"
   ]
  },
  {
   "cell_type": "markdown",
   "metadata": {},
   "source": [
    "    While loops will continue to execute a block of code while some condition remains True.\n",
    "    For example, while my pool is not full, keep fillfing my pool with water.\n",
    "\n",
    "    Usefull KEY words in Loops.\n",
    "    Break: Breaks out of the current closest enclosing loop.\n",
    "    Continue: Goes to the top of the closest enclosing loop.\n",
    "    Pass: Does nothing at all."
   ]
  },
  {
   "cell_type": "code",
   "execution_count": 70,
   "metadata": {},
   "outputs": [
    {
     "name": "stdout",
     "output_type": "stream",
     "text": [
      "The current value is: 5\n",
      "The current value is: 6\n",
      "The current value is: 7\n",
      "The current value is: 8\n",
      "The current value is: 9\n",
      "T\n",
      "s\n",
      "h\n",
      "e\n",
      "g\n",
      "f\n",
      "a\n",
      "t\n",
      "s\n",
      "K\n",
      "g\n",
      "m\n",
      " \n",
      "Below will be for breaking \n",
      "T\n",
      "s\n",
      "h\n",
      "e\n",
      "g\n"
     ]
    }
   ],
   "source": [
    "x = 5\n",
    "\n",
    "while x > 4 :\n",
    "    if x  == 10:\n",
    "        break\n",
    "    print(f\"The current value is: {x}\")\n",
    "    x = x + 1 # x += 1\n",
    "\n",
    "else:\n",
    "    print(\"X is not Less Than 5\")\n",
    "\n",
    "\n",
    "mystring = \"TshegofatsoKgomo\"\n",
    "for lett in mystring:\n",
    "    if lett == 'o' : # Basicallly here that means that if the iteration gets to O skip it and continue with iteration\n",
    "        continue\n",
    "    print(lett)\n",
    "\n",
    "print(\" \")\n",
    "print(\"Below will be for breaking \")\n",
    "\n",
    "for lett in mystring:\n",
    "    if lett == 'o' : # For this iteration when you get to the letter 'o' STOP THE Iteration--> Break it!\n",
    "        break\n",
    "    print(lett)\n",
    "\n",
    "\n",
    "\n"
   ]
  },
  {
   "cell_type": "code",
   "execution_count": null,
   "metadata": {},
   "outputs": [
    {
     "name": "stdout",
     "output_type": "stream",
     "text": [
      "0\n",
      "2\n",
      "4\n",
      "6\n",
      "8\n",
      " \n",
      "1\n",
      "a\n",
      "100\n",
      "\n",
      "\n",
      "2\n",
      "b\n",
      "200\n",
      "\n",
      "\n",
      "3\n",
      "c\n",
      "300\n",
      "\n",
      "\n",
      "Your name is: tshego\n",
      "Your age is 66\n"
     ]
    }
   ],
   "source": [
    "# Range for iteration.\n",
    "mtlist = [1,2,3]\n",
    "for nus in range(0,10,2):\n",
    "    print(nus) \n",
    "print(\" \")\n",
    "\n",
    "#when you want to combine lists together and Iterate through:\n",
    "\n",
    "mylists1 = [1,2,3]\n",
    "mylist2 = ['a','b','c']\n",
    "mylist3 = [100,200,300]\n",
    "\n",
    "for i,u,t in zip(mylists1,mylist2,mylist3):\n",
    "    print(i)\n",
    "    print(u)\n",
    "    print(t)\n",
    "    print('\\n')\n",
    "\n",
    "#How to see if a letter is in a list:\n",
    "1 in [1,1,2,2,3,3] # The 'n' key word operator.\n",
    "\n",
    "myliist = [2,10,20,30,40,50]\n",
    "min(myliist) #To show the minimum number in the list.\n",
    "max(myliist) #To see the maximum numeber in the list.\n",
    "\n",
    "\n",
    "# The Random built-in Library!!!!!!!!!!!!!!!!!!!!!!!!!!!!!!!!!!\n",
    "from random import shuffle\n",
    "ilists = [1,2,3,4,5,6,7,8,9,10]\n",
    "shuffle(ilists) # This will shuflle the list to a unorded sequency.\n",
    "\n",
    "from random import randint #--> to get a random number and save it!\n",
    "name = randint(0,50)\n",
    "\n",
    "result = input('what is your name? ')\n",
    "print(f\"Your name is: {result}\")\n",
    "age = input('What is you age: ')\n",
    "print(\"Your age is: {}\" .format(age))\n",
    "\n"
   ]
  },
  {
   "cell_type": "code",
   "execution_count": null,
   "metadata": {},
   "outputs": [],
   "source": [
    "########################### Methods and Functions #####################################"
   ]
  },
  {
   "cell_type": "markdown",
   "metadata": {},
   "source": [
    "Fuctions allow us to create blocks of code that can be easilt executed many times, without needign to constantly rewrite the entire block of code.\n",
    "\n",
    "syntax def Name_of_funtion()\n",
    "Typically we use the return keyword to send back the result of the function instead of just printing it out.\n",
    "Return allow us to assign the output of function to a new variable.\n",
    "\n",
    "Functions can accept arguments to be passed by the User."
   ]
  },
  {
   "cell_type": "code",
   "execution_count": 38,
   "metadata": {},
   "outputs": [
    {
     "name": "stdout",
     "output_type": "stream",
     "text": [
      "Hello, Tshegofatso!\n",
      "How are you doing today?\n",
      " \n",
      "Hello, Tshegofatso\n",
      " \n",
      "5\n",
      " \n",
      "50\n",
      "50\n",
      " \n",
      "The sum of 3 and 3 is: \n",
      "The sum is: 6\n"
     ]
    }
   ],
   "source": [
    "def say_hello():\n",
    "    print(\"Hello, Tshegofatso!\")\n",
    "    print(\"How are you doing today?\")\n",
    "\n",
    "say_hello()\n",
    "print(\" \")\n",
    "\n",
    "#When you have an arguments!\n",
    "def say_hello(name):\n",
    "    print(f\"Hello, {name}\")\n",
    "\n",
    "say_hello(\"Tshegofatso\")\n",
    "print(\" \")\n",
    "\n",
    "#when you use a return function, this is where you want to store something in a variable than just printing the result.\n",
    "def add_num(a,b):\n",
    "    return a+b\n",
    "result = add_num(2, 3)\n",
    "print(result)\n",
    "print(\" \")\n",
    "\n",
    "# Using both the return and print function\n",
    "def add_nus(a, b):\n",
    "    print(a+b)\n",
    "    return a+b\n",
    "\n",
    "res = add_nus(20, 30) # A return function is used to store the result in a variable. \n",
    "print(res) # The print function is used to print the result\n",
    "\n",
    "print(\" \")\n",
    "def sum_numbers():\n",
    "    num1 = 0\n",
    "    num2 = 0\n",
    "    num1 = int(input(\"what is the number you would like to input: \"))\n",
    "    num2 = int(input(\"what is the number you would like to input: \"))\n",
    "    print(f\"The sum of {num1} and {num2} is: \")\n",
    "    return num1 + num2\n",
    "\n",
    "print(\"The sum is: \" + str(sum_numbers()))\n",
    "\n",
    "\n"
   ]
  },
  {
   "cell_type": "code",
   "execution_count": 50,
   "metadata": {},
   "outputs": [
    {
     "name": "stdout",
     "output_type": "stream",
     "text": [
      "This number is odd: 1\n",
      "This number is even: 2\n",
      "This number is odd: 3\n",
      "This number is even: 4\n",
      "This number is odd: 5\n",
      "This number is even: 6\n",
      "This number is odd: 7\n",
      "This number is even: 8\n",
      "This number is odd: 9\n"
     ]
    }
   ],
   "source": [
    "# Incorporating Function with logic!\n",
    "def fuc(num_list):\n",
    "    for num in num_list:\n",
    "        if num % 2 == 0:\n",
    "            return True    \n",
    "        else:\n",
    "            pass\n",
    "    return False # Every return statement does not need to be indented with other return statement.\n",
    "                 # You have to focus on the logic! \n",
    "fuc([1,2,5])\n",
    "\n",
    "#I want to return all the even numbers inside the list:\n",
    "def even_check(lits):\n",
    "    for nums in lits:\n",
    "        if nums % 2 == 0:\n",
    "            print(\"This number is even: \" + str(nums))\n",
    "        \n",
    "        else:\n",
    "            print(\"This number is odd: \" + str(nums))\n",
    "\n",
    "even_check([1,2,3,4,5,6,7,8,9])\n",
    "\n",
    "    \n",
    "\n"
   ]
  },
  {
   "cell_type": "code",
   "execution_count": 58,
   "metadata": {},
   "outputs": [
    {
     "name": "stdout",
     "output_type": "stream",
     "text": [
      "APPL\n",
      "GOOG\n",
      "MSFT\n",
      "('stacy', 4000)\n"
     ]
    }
   ],
   "source": [
    "############ Functions and Tuple Unpacking ##############\n",
    "stock_prices = [('APPL',200),('GOOG',400),('MSFT',100)]\n",
    "for tigger,prices in stock_prices: # Tuple Unpacking!\n",
    "    print(tigger)\n",
    "\n",
    "work_hours = [('Abby',100),('Billy',400),('stacy',4000),('Cassie',800)]\n",
    "def employee_check(work_hours):\n",
    "    current_max= 0\n",
    "    employee_of_month = \" \"\n",
    "    for employee, hours in work_hours:\n",
    "        if hours > current_max:\n",
    "            current_max = hours\n",
    "            employee_of_month = employee\n",
    "        else:\n",
    "            pass\n",
    "    \n",
    "    return (employee_of_month, current_max)\n",
    "\n",
    "results = employee_check(work_hours)\n",
    "print(results)\n",
    "\n"
   ]
  },
  {
   "cell_type": "code",
   "execution_count": null,
   "metadata": {},
   "outputs": [
    {
     "name": "stdout",
     "output_type": "stream",
     "text": [
      "[4, 2, 1, 5, 4, 3]\n",
      "The ball can only be in Block: 1, 2, 3\n",
      "You entered that the ball is in block: 2\n",
      " The ball is in: ['O ', ' ', ' ']\n"
     ]
    }
   ],
   "source": [
    "############# Interactions between Functions ############\n",
    "import random\n",
    "lit = [1,2,3,4,4,5]\n",
    "random.shuffle(lit)\n",
    "print(lit)\n",
    "\n",
    "mylist = [' ','O ',' ']\n",
    "def shuffle_list(mylist):\n",
    "   print(\"The ball can only be in Block: 1, 2, 3\")\n",
    "   your_result = int(input(\"Press enter to shuffle: \"))\n",
    "   if your_result not in range(1,4):\n",
    "       print(\"Please enter a number between 1 and 3\")\n",
    "       random.shuffle(mylist)\n",
    "       return mylist\n",
    "   else:\n",
    "        print(\"You entered that the ball is in block: \" + str(your_result))\n",
    "        random.shuffle(mylist)\n",
    "        return mylist\n",
    "\n",
    "print(\" The ball is in: \" + str(shuffle_list(mylist)))\n",
    "\n",
    "\n",
    "    "
   ]
  },
  {
   "cell_type": "code",
   "execution_count": 12,
   "metadata": {},
   "outputs": [
    {
     "name": "stdout",
     "output_type": "stream",
     "text": [
      "40\n",
      "60\n",
      "100\n",
      "1\n",
      "34\n",
      "The results of the arguments is: 11.75\n",
      " \n",
      "My fruit of choice is apple\n",
      "(10, 20, 30)\n",
      "{'fruit': 'orange', 'food': 'eggs', 'animal': 'dog'}\n",
      "I would like 30 eggs\n"
     ]
    }
   ],
   "source": [
    "############ *args and **kwargs ################\n",
    "\n",
    "def myfunc(a,b, c=0,d=0,e=0): # This are known as positional arguements!\n",
    "    # Returns 5% of the sum of a and b\n",
    "    return sum((a,b,c,d,e)) * 0.05\n",
    "\n",
    "myfunc(40, 60)\n",
    "\n",
    "def myfuncs(*args): # This will allow us in any number of arguments now you can take as many arguements as you want!\n",
    "    for items in args:\n",
    "        print(items)\n",
    "    \n",
    "    result = sum(args) * 0.05\n",
    "    print( f\"The results of the arguments is: {result}\")\n",
    "\n",
    "myfuncs(40, 60, 100, 1, 34)\n",
    "print(\" \")\n",
    "\n",
    "# *args return a Tuple\n",
    "# **kwargs will return a Dictionary!\n",
    "\n",
    "#Key worded arguements which will give you a dictionary of the arguements!\n",
    "def myfunct(**kwargs):\n",
    "    if 'fruit' in kwargs:\n",
    "        print('My fruit of choice is {}'.format(kwargs['fruit']))\n",
    "\n",
    "    else:\n",
    "        print('I did not find any fruit here')\n",
    "\n",
    "myfunct(fruit='apple', veggie='lettuece')\n",
    "\n",
    "# Using both the args and kwargs in combination!\n",
    "\n",
    "def myfuncts(*args, **kwargs):\n",
    "    print(args)\n",
    "    print(kwargs)\n",
    "    print('I would like {} {}'.format(args[2], kwargs['food']))\n",
    "\n",
    "myfuncts(10, 20, 30, fruit='orange', food='eggs', animal='dog')\n",
    "\n",
    "\n"
   ]
  },
  {
   "cell_type": "code",
   "execution_count": 10,
   "metadata": {},
   "outputs": [
    {
     "name": "stdout",
     "output_type": "stream",
     "text": [
      "You would like to have the following number of plates: 5 \n",
      "You would like to have the following number of characters: 6 \n",
      "GOOGKG\n",
      "OMOGM1\n",
      "M11O11\n",
      "1OK1GK\n",
      "K1MK11\n",
      " \n",
      "I would suggest: \n",
      "KGOMO 1 GP\n",
      "T KGOMO1 GP\n",
      "TM KGOMO1 GP\n",
      "01 KGOMO GP\n",
      "01 TKGOMO GP\n",
      "01 TMKGOMO GP\n"
     ]
    }
   ],
   "source": [
    "import random\n",
    "\n",
    "plate = int(input(\"How many lisence plates would you like to create? \"))\n",
    "print(f\"You would like to have the following number of plates: {plate} \")\n",
    "\n",
    "charss = int(input(\"How many characters would you like to have in each plate? \"))\n",
    "print(f\"You would like to have the following number of characters: {charss} \")\n",
    "\n",
    "formats = 'KGOMO1'\n",
    "\n",
    "for i in range(plate):\n",
    "        for i in range(charss):\n",
    "            print(random.choice(formats), end= '')\n",
    "        print()\n",
    "\n",
    "        \n",
    "\n",
    "print(\" \")\n",
    "print(\"I would suggest: \")\n",
    "print(\"KGOMO 1 GP\")\n",
    "print(\"T KGOMO1 GP\")\n",
    "print(\"TM KGOMO1 GP\")\n",
    "print(\"01 KGOMO GP\")\n",
    "print(\"01 TKGOMO GP\")\n",
    "print(\"01 TMKGOMO GP\")\n",
    "\n",
    "\n"
   ]
  },
  {
   "cell_type": "code",
   "execution_count": null,
   "metadata": {},
   "outputs": [
    {
     "name": "stdout",
     "output_type": "stream",
     "text": [
      "The answer is: False\n",
      "MacDonald\n"
     ]
    }
   ],
   "source": [
    "######## More Funtion Problems and practise #######\n",
    "\n",
    "### warmup sections ###\n",
    "\n",
    "def lesser_of_two_events(a,d):\n",
    "    if a % 2 == 0 and d % 2 == 0:\n",
    "        return min(a, d)\n",
    "    \n",
    "    elif a % 2 != 0 or d % 2 != 0:\n",
    "        return max(a, d)\n",
    "\n",
    "lesser_of_two_events(2, 6)\n",
    "\n",
    "def animal_crackers(text1, text2):\n",
    "    let = text1[0]\n",
    "    let2 = text2[0]\n",
    "    if let in text1[0] == let2 in text2[0]:\n",
    "        return True\n",
    "    \n",
    "    else:\n",
    "        return False\n",
    "\n",
    "print(\"The answer is: \"+ str(animal_crackers('Levelheaded','Uambda')))\n",
    "\n",
    "def make_twenty(n1, n2):\n",
    "    if n1 + n2 == 20:\n",
    "        return True\n",
    "    \n",
    "    elif n1 == 20 or n2 == 20:\n",
    "        return True\n",
    "    \n",
    "    else:\n",
    "        return False\n",
    "    \n",
    "make_twenty(2, 2)\n",
    "\n",
    "\n",
    "def oldmac(name):\n",
    "    #Using the easy Upper() method:\n",
    "    # firtletter = name[0]\n",
    "    # inbeween = name[1:3]\n",
    "    # fourthletter = name[3]\n",
    "    # restletters = name[4:]\n",
    "\n",
    "    #return firstletter.upper() + inbetween + fourthletter.upper()+restletters\n",
    "    first = name[:3]\n",
    "    second = name[3:]\n",
    "    return first.capitalize() + second.capitalize()\n",
    "    \n",
    "print(oldmac('macdonald'))\n",
    "    \n",
    "\n",
    "\n",
    "\n"
   ]
  },
  {
   "cell_type": "code",
   "execution_count": null,
   "metadata": {},
   "outputs": [
    {
     "data": {
      "text/plain": [
       "'cooking is who'"
      ]
     },
     "execution_count": 18,
     "metadata": {},
     "output_type": "execute_result"
    }
   ],
   "source": [
    "def revSenten(sentence):\n",
    "    sentence = sentence.split(' ') #Split function is used to seperate the words in a form of a list.\n",
    "    sentence.reverse()\n",
    "    return ' '.join(sentence)\n",
    "\n",
    "revSenten('who is cooking')"
   ]
  },
  {
   "cell_type": "code",
   "execution_count": null,
   "metadata": {},
   "outputs": [
    {
     "data": {
      "text/plain": [
       "True"
      ]
     },
     "execution_count": 28,
     "metadata": {},
     "output_type": "execute_result"
    }
   ],
   "source": [
    "def almosthere(n):\n",
    "    if n >= 90 and n <= 110:\n",
    "        return True\n",
    "    elif n >= 190 and n <= 210:\n",
    "        return True\n",
    "    else:\n",
    "        return False\n",
    "    \n",
    "    #You can use the absoulte value:\n",
    "    # return (abs(100-n) <= 10) or (abs(200-n) <= 10)\n",
    "\n",
    "almosthere(210)\n",
    "\n",
    "\n",
    "    "
   ]
  },
  {
   "cell_type": "code",
   "execution_count": null,
   "metadata": {},
   "outputs": [
    {
     "data": {
      "text/plain": [
       "False"
      ]
     },
     "execution_count": 42,
     "metadata": {},
     "output_type": "execute_result"
    }
   ],
   "source": [
    "def has_33(num):\n",
    "    for i in range(0,len(num)-1): # This will take you to the secoond last int you would like to check\n",
    "        if num[i] == 3 and num[i+1] == 3:\n",
    "            return True \n",
    "        else:\n",
    "            return False\n",
    "\n",
    "\n",
    "has_33([1, 3, 1, 3])"
   ]
  },
  {
   "cell_type": "code",
   "execution_count": null,
   "metadata": {},
   "outputs": [
    {
     "data": {
      "text/plain": [
       "21"
      ]
     },
     "execution_count": 72,
     "metadata": {},
     "output_type": "execute_result"
    }
   ],
   "source": [
    "def paper_doll(text): #look at this!!\n",
    "    result = ''\n",
    "    for char in text:\n",
    "        result += char * 3\n",
    "    return result\n",
    "\n",
    "paper_doll('Hello')\n",
    "paper_doll('Tshegofatso')\n",
    "\n",
    "\n",
    "###BlackJack####\n",
    "\n",
    "def blackjack(a,b,c):\n",
    "    if sum((a,b,c)) <= 21:\n",
    "        return sum((a,b,c))\n",
    "    elif sum((a,b,c)) <= 31 and 11 in (a,b,c):\n",
    "        return sum((a,b,c)) - 10\n",
    "    else:\n",
    "        return 'BUST'\n",
    "    \n",
    "blackjack(5, 9, 7)\n",
    "\n",
    "def summer_69(arr):\n",
    "    total = 0\n",
    "    add = True\n",
    "    for num in arr:\n",
    "        while add:\n",
    "            if num != 6:\n",
    "                total += num\n",
    "                break\n",
    "            else:\n",
    "                add = False\n",
    "        while not add:\n",
    "            if num != 9:\n",
    "                break\n",
    "            else:\n",
    "                add = True\n",
    "                break\n",
    "    return total"
   ]
  },
  {
   "cell_type": "code",
   "execution_count": 8,
   "metadata": {},
   "outputs": [],
   "source": [
    "n = int(input(\"Please input a number: \"))\n",
    "\n",
    "if n %2 != 0:\n",
    "    print(\"Weird\")\n",
    "\n",
    "elif n % 2 == 0:\n",
    "    if 2 <= n <= 5:\n",
    "        print(\"Not Weird \")\n",
    "\n",
    "elif n % 2 == 0:\n",
    "    if 6 <= n <= 20:\n",
    "        print(\" Weird \")\n",
    "        \n",
    "elif n % 20 == 0:\n",
    "    if n > 20:\n",
    "        print(\"Not Weird\")"
   ]
  }
 ],
 "metadata": {
  "kernelspec": {
   "display_name": "Python 3",
   "language": "python",
   "name": "python3"
  },
  "language_info": {
   "codemirror_mode": {
    "name": "ipython",
    "version": 3
   },
   "file_extension": ".py",
   "mimetype": "text/x-python",
   "name": "python",
   "nbconvert_exporter": "python",
   "pygments_lexer": "ipython3",
   "version": "3.9.6"
  }
 },
 "nbformat": 4,
 "nbformat_minor": 2
}
